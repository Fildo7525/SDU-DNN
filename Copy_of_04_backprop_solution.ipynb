{
  "nbformat": 4,
  "nbformat_minor": 0,
  "metadata": {
    "kernelspec": {
      "display_name": "Python 3",
      "language": "python",
      "name": "python3"
    },
    "language_info": {
      "codemirror_mode": {
        "name": "ipython",
        "version": 3
      },
      "file_extension": ".py",
      "mimetype": "text/x-python",
      "name": "python",
      "nbconvert_exporter": "python",
      "pygments_lexer": "ipython3",
      "version": "3.8.2"
    },
    "colab": {
      "provenance": [],
      "include_colab_link": true
    },
    "widgets": {
      "application/vnd.jupyter.widget-state+json": {
        "2dd86273940d4605b48b34b2b2cbd6aa": {
          "model_module": "@jupyter-widgets/controls",
          "model_name": "HBoxModel",
          "model_module_version": "1.5.0",
          "state": {
            "_dom_classes": [],
            "_model_module": "@jupyter-widgets/controls",
            "_model_module_version": "1.5.0",
            "_model_name": "HBoxModel",
            "_view_count": null,
            "_view_module": "@jupyter-widgets/controls",
            "_view_module_version": "1.5.0",
            "_view_name": "HBoxView",
            "box_style": "",
            "children": [
              "IPY_MODEL_3f1bfd2af902470a8867e4f031660ef8",
              "IPY_MODEL_4f723e16f58f4a4985765ff99f180360",
              "IPY_MODEL_b90cfea61caf493cbfaa06b2b4e9059b"
            ],
            "layout": "IPY_MODEL_e2b52341cfcc4c85a74685eca60f5095"
          }
        },
        "3f1bfd2af902470a8867e4f031660ef8": {
          "model_module": "@jupyter-widgets/controls",
          "model_name": "HTMLModel",
          "model_module_version": "1.5.0",
          "state": {
            "_dom_classes": [],
            "_model_module": "@jupyter-widgets/controls",
            "_model_module_version": "1.5.0",
            "_model_name": "HTMLModel",
            "_view_count": null,
            "_view_module": "@jupyter-widgets/controls",
            "_view_module_version": "1.5.0",
            "_view_name": "HTMLView",
            "description": "",
            "description_tooltip": null,
            "layout": "IPY_MODEL_4746a02e211d4574974db4a453497d29",
            "placeholder": "​",
            "style": "IPY_MODEL_13257b8bcd334aa286952fe060645b46",
            "value": "acc: 0.76/0.49:  98%"
          }
        },
        "4f723e16f58f4a4985765ff99f180360": {
          "model_module": "@jupyter-widgets/controls",
          "model_name": "FloatProgressModel",
          "model_module_version": "1.5.0",
          "state": {
            "_dom_classes": [],
            "_model_module": "@jupyter-widgets/controls",
            "_model_module_version": "1.5.0",
            "_model_name": "FloatProgressModel",
            "_view_count": null,
            "_view_module": "@jupyter-widgets/controls",
            "_view_module_version": "1.5.0",
            "_view_name": "ProgressView",
            "bar_style": "",
            "description": "",
            "description_tooltip": null,
            "layout": "IPY_MODEL_45495f7951c347f48ea71254992060fc",
            "max": 50,
            "min": 0,
            "orientation": "horizontal",
            "style": "IPY_MODEL_e07ebb05e17c42d2841c505597c66f04",
            "value": 49
          }
        },
        "b90cfea61caf493cbfaa06b2b4e9059b": {
          "model_module": "@jupyter-widgets/controls",
          "model_name": "HTMLModel",
          "model_module_version": "1.5.0",
          "state": {
            "_dom_classes": [],
            "_model_module": "@jupyter-widgets/controls",
            "_model_module_version": "1.5.0",
            "_model_name": "HTMLModel",
            "_view_count": null,
            "_view_module": "@jupyter-widgets/controls",
            "_view_module_version": "1.5.0",
            "_view_name": "HTMLView",
            "description": "",
            "description_tooltip": null,
            "layout": "IPY_MODEL_b05cf4f6cf7a46c6b6b46e428875aa5b",
            "placeholder": "​",
            "style": "IPY_MODEL_7fb0fb967c2146fdadc39aa62a06d52c",
            "value": " 49/50 [02:42&lt;00:03,  3.12s/it]"
          }
        },
        "e2b52341cfcc4c85a74685eca60f5095": {
          "model_module": "@jupyter-widgets/base",
          "model_name": "LayoutModel",
          "model_module_version": "1.2.0",
          "state": {
            "_model_module": "@jupyter-widgets/base",
            "_model_module_version": "1.2.0",
            "_model_name": "LayoutModel",
            "_view_count": null,
            "_view_module": "@jupyter-widgets/base",
            "_view_module_version": "1.2.0",
            "_view_name": "LayoutView",
            "align_content": null,
            "align_items": null,
            "align_self": null,
            "border": null,
            "bottom": null,
            "display": null,
            "flex": null,
            "flex_flow": null,
            "grid_area": null,
            "grid_auto_columns": null,
            "grid_auto_flow": null,
            "grid_auto_rows": null,
            "grid_column": null,
            "grid_gap": null,
            "grid_row": null,
            "grid_template_areas": null,
            "grid_template_columns": null,
            "grid_template_rows": null,
            "height": null,
            "justify_content": null,
            "justify_items": null,
            "left": null,
            "margin": null,
            "max_height": null,
            "max_width": null,
            "min_height": null,
            "min_width": null,
            "object_fit": null,
            "object_position": null,
            "order": null,
            "overflow": null,
            "overflow_x": null,
            "overflow_y": null,
            "padding": null,
            "right": null,
            "top": null,
            "visibility": null,
            "width": null
          }
        },
        "4746a02e211d4574974db4a453497d29": {
          "model_module": "@jupyter-widgets/base",
          "model_name": "LayoutModel",
          "model_module_version": "1.2.0",
          "state": {
            "_model_module": "@jupyter-widgets/base",
            "_model_module_version": "1.2.0",
            "_model_name": "LayoutModel",
            "_view_count": null,
            "_view_module": "@jupyter-widgets/base",
            "_view_module_version": "1.2.0",
            "_view_name": "LayoutView",
            "align_content": null,
            "align_items": null,
            "align_self": null,
            "border": null,
            "bottom": null,
            "display": null,
            "flex": null,
            "flex_flow": null,
            "grid_area": null,
            "grid_auto_columns": null,
            "grid_auto_flow": null,
            "grid_auto_rows": null,
            "grid_column": null,
            "grid_gap": null,
            "grid_row": null,
            "grid_template_areas": null,
            "grid_template_columns": null,
            "grid_template_rows": null,
            "height": null,
            "justify_content": null,
            "justify_items": null,
            "left": null,
            "margin": null,
            "max_height": null,
            "max_width": null,
            "min_height": null,
            "min_width": null,
            "object_fit": null,
            "object_position": null,
            "order": null,
            "overflow": null,
            "overflow_x": null,
            "overflow_y": null,
            "padding": null,
            "right": null,
            "top": null,
            "visibility": null,
            "width": null
          }
        },
        "13257b8bcd334aa286952fe060645b46": {
          "model_module": "@jupyter-widgets/controls",
          "model_name": "DescriptionStyleModel",
          "model_module_version": "1.5.0",
          "state": {
            "_model_module": "@jupyter-widgets/controls",
            "_model_module_version": "1.5.0",
            "_model_name": "DescriptionStyleModel",
            "_view_count": null,
            "_view_module": "@jupyter-widgets/base",
            "_view_module_version": "1.2.0",
            "_view_name": "StyleView",
            "description_width": ""
          }
        },
        "45495f7951c347f48ea71254992060fc": {
          "model_module": "@jupyter-widgets/base",
          "model_name": "LayoutModel",
          "model_module_version": "1.2.0",
          "state": {
            "_model_module": "@jupyter-widgets/base",
            "_model_module_version": "1.2.0",
            "_model_name": "LayoutModel",
            "_view_count": null,
            "_view_module": "@jupyter-widgets/base",
            "_view_module_version": "1.2.0",
            "_view_name": "LayoutView",
            "align_content": null,
            "align_items": null,
            "align_self": null,
            "border": null,
            "bottom": null,
            "display": null,
            "flex": null,
            "flex_flow": null,
            "grid_area": null,
            "grid_auto_columns": null,
            "grid_auto_flow": null,
            "grid_auto_rows": null,
            "grid_column": null,
            "grid_gap": null,
            "grid_row": null,
            "grid_template_areas": null,
            "grid_template_columns": null,
            "grid_template_rows": null,
            "height": null,
            "justify_content": null,
            "justify_items": null,
            "left": null,
            "margin": null,
            "max_height": null,
            "max_width": null,
            "min_height": null,
            "min_width": null,
            "object_fit": null,
            "object_position": null,
            "order": null,
            "overflow": null,
            "overflow_x": null,
            "overflow_y": null,
            "padding": null,
            "right": null,
            "top": null,
            "visibility": null,
            "width": null
          }
        },
        "e07ebb05e17c42d2841c505597c66f04": {
          "model_module": "@jupyter-widgets/controls",
          "model_name": "ProgressStyleModel",
          "model_module_version": "1.5.0",
          "state": {
            "_model_module": "@jupyter-widgets/controls",
            "_model_module_version": "1.5.0",
            "_model_name": "ProgressStyleModel",
            "_view_count": null,
            "_view_module": "@jupyter-widgets/base",
            "_view_module_version": "1.2.0",
            "_view_name": "StyleView",
            "bar_color": null,
            "description_width": ""
          }
        },
        "b05cf4f6cf7a46c6b6b46e428875aa5b": {
          "model_module": "@jupyter-widgets/base",
          "model_name": "LayoutModel",
          "model_module_version": "1.2.0",
          "state": {
            "_model_module": "@jupyter-widgets/base",
            "_model_module_version": "1.2.0",
            "_model_name": "LayoutModel",
            "_view_count": null,
            "_view_module": "@jupyter-widgets/base",
            "_view_module_version": "1.2.0",
            "_view_name": "LayoutView",
            "align_content": null,
            "align_items": null,
            "align_self": null,
            "border": null,
            "bottom": null,
            "display": null,
            "flex": null,
            "flex_flow": null,
            "grid_area": null,
            "grid_auto_columns": null,
            "grid_auto_flow": null,
            "grid_auto_rows": null,
            "grid_column": null,
            "grid_gap": null,
            "grid_row": null,
            "grid_template_areas": null,
            "grid_template_columns": null,
            "grid_template_rows": null,
            "height": null,
            "justify_content": null,
            "justify_items": null,
            "left": null,
            "margin": null,
            "max_height": null,
            "max_width": null,
            "min_height": null,
            "min_width": null,
            "object_fit": null,
            "object_position": null,
            "order": null,
            "overflow": null,
            "overflow_x": null,
            "overflow_y": null,
            "padding": null,
            "right": null,
            "top": null,
            "visibility": null,
            "width": null
          }
        },
        "7fb0fb967c2146fdadc39aa62a06d52c": {
          "model_module": "@jupyter-widgets/controls",
          "model_name": "DescriptionStyleModel",
          "model_module_version": "1.5.0",
          "state": {
            "_model_module": "@jupyter-widgets/controls",
            "_model_module_version": "1.5.0",
            "_model_name": "DescriptionStyleModel",
            "_view_count": null,
            "_view_module": "@jupyter-widgets/base",
            "_view_module_version": "1.2.0",
            "_view_name": "StyleView",
            "description_width": ""
          }
        }
      }
    }
  },
  "cells": [
    {
      "cell_type": "markdown",
      "metadata": {
        "id": "view-in-github",
        "colab_type": "text"
      },
      "source": [
        "<a href=\"https://colab.research.google.com/github/Fildo7525/SDU-DNN/blob/master/Copy_of_04_backprop_solution.ipynb\" target=\"_parent\"><img src=\"https://colab.research.google.com/assets/colab-badge.svg\" alt=\"Open In Colab\"/></a>"
      ]
    },
    {
      "cell_type": "markdown",
      "metadata": {
        "id": "PDciqgzRq4WS"
      },
      "source": [
        "# Backpropogation"
      ]
    },
    {
      "cell_type": "code",
      "metadata": {
        "id": "bgisEO6Z5GDq"
      },
      "source": [
        "import matplotlib.pyplot as plt\n",
        "import numpy as np\n",
        "import sklearn.preprocessing\n",
        "from tqdm.notebook import tqdm\n",
        "import torchvision\n",
        "from torchvision import transforms"
      ],
      "execution_count": 1,
      "outputs": []
    },
    {
      "cell_type": "markdown",
      "metadata": {
        "id": "A9VfWxMU4r7X"
      },
      "source": [
        "### Load dataset"
      ]
    },
    {
      "cell_type": "code",
      "metadata": {
        "colab": {
          "base_uri": "https://localhost:8080/"
        },
        "id": "zGbsi1rPa9UO",
        "outputId": "a89257d0-7294-4b94-bd36-050c5e5b5041"
      },
      "source": [
        "class Cifar10(torchvision.datasets.CIFAR10):\n",
        "  def __init__(self, train: bool):\n",
        "    super().__init__(root='~/data', train=train, download=True)\n",
        "    self.data = self.data.astype(np.float32) / 255 - 0.5\n",
        "\n",
        "  def __getitem__(self, idx):\n",
        "    return self.data[idx], self.targets[idx]\n",
        "\n",
        "data_train = Cifar10(train=True)\n",
        "data_test = Cifar10(train=False)\n",
        "\n",
        "x_train = np.array(data_train.data)\n",
        "x_test = np.array(data_test.data)\n",
        "\n",
        "# Reshape\n",
        "d_data = np.prod(x_train.shape[1:])  # 32 * 32 * 3\n",
        "x_train = x_train.reshape((-1, d_data))  # (50000, d_data)\n",
        "x_test = x_test.reshape((-1, d_data))  # (10000, d_data)\n",
        "\n",
        "y_train = np.array(data_train.targets)\n",
        "y_test = np.array(data_test.targets)\n",
        "\n",
        "# Convert y indices to one-hot, 10 classes\n",
        "y_train = sklearn.preprocessing.label_binarize(y_train, classes=range(10))\n",
        "y_test = sklearn.preprocessing.label_binarize(y_test, classes=range(10))\n",
        "\n",
        "# Store samples in columns\n",
        "x_train = x_train.T\n",
        "y_train = y_train.T\n",
        "x_test = x_test.T\n",
        "y_test = y_test.T\n",
        "\n",
        "# Use single precision for speed\n",
        "x_train = x_train.astype(np.float32)\n",
        "y_train = y_train.astype(np.float32)\n",
        "x_test = x_test.astype(np.float32)\n",
        "y_test = y_test.astype(np.float32)\n",
        "\n",
        "# Report shapes\n",
        "print(f'x_train/y_train shape: {x_train.shape}/{y_train.shape}')\n",
        "print(f'x_test/y_test shape: {x_test.shape}/{y_test.shape}')"
      ],
      "execution_count": 2,
      "outputs": [
        {
          "output_type": "stream",
          "name": "stdout",
          "text": [
            "Downloading https://www.cs.toronto.edu/~kriz/cifar-10-python.tar.gz to /root/data/cifar-10-python.tar.gz\n"
          ]
        },
        {
          "output_type": "stream",
          "name": "stderr",
          "text": [
            "100%|██████████| 170498071/170498071 [00:03<00:00, 51579776.24it/s]\n"
          ]
        },
        {
          "output_type": "stream",
          "name": "stdout",
          "text": [
            "Extracting /root/data/cifar-10-python.tar.gz to /root/data\n",
            "Files already downloaded and verified\n",
            "x_train/y_train shape: (3072, 50000)/(10, 50000)\n",
            "x_test/y_test shape: (3072, 10000)/(10, 10000)\n"
          ]
        }
      ]
    },
    {
      "cell_type": "markdown",
      "metadata": {
        "id": "7FAN22M2gfuO"
      },
      "source": [
        "### Lets define some helper functions first"
      ]
    },
    {
      "cell_type": "code",
      "metadata": {
        "id": "4dIpbfm5gudS"
      },
      "source": [
        "def softmax(x):\n",
        "  x = x - np.max(x, axis=0, keepdims=True)\n",
        "  ex = np.exp(x)\n",
        "  return ex / np.sum(ex, axis=0, keepdims=True)\n",
        "\n",
        "\n",
        "def negative_log_likelihood(yhat, y, eps=1e-9):\n",
        "  return -np.sum(y * np.log(yhat + eps)) / y.shape[1]\n",
        "\n",
        "\n",
        "def classification_rate(logits, y):\n",
        "  return np.mean(np.argmax(logits, axis=0) == np.argmax(y, axis=0))"
      ],
      "execution_count": 3,
      "outputs": []
    },
    {
      "cell_type": "markdown",
      "metadata": {
        "id": "xtMxx6oHi66Q"
      },
      "source": [
        "### Now, lets define Activation layer and Loss function"
      ]
    },
    {
      "cell_type": "code",
      "metadata": {
        "id": "ZqTlZfO4jDY_"
      },
      "source": [
        "class ReLU:\n",
        "  x = None\n",
        "\n",
        "  def forward(self, x):\n",
        "    self.x = x\n",
        "    y = np.maximum(x, 0)\n",
        "    return y\n",
        "\n",
        "  def backward(self, dldy):\n",
        "    # note that the jacobian is a diagonal matrix, since ReLU is applied elementwise\n",
        "    # we can thus simply express the jacobian as the diagonal vector\n",
        "    dydx = self.x > 0  # (one where x > 0, else 0)\n",
        "    dldx = dldy * dydx  # chain rule\n",
        "    return dldx\n",
        "\n",
        "\n",
        "class MultinomialCrossEntropyLoss:\n",
        "  y, yhat = None, None\n",
        "\n",
        "  def forward(self, logits, y):\n",
        "    self.y = y\n",
        "    self.yhat = softmax(logits)\n",
        "    return negative_log_likelihood(self.yhat, y)\n",
        "\n",
        "  def backward(self):\n",
        "    dldlogits = (self.yhat - self.y) / self.y.shape[1]\n",
        "    return dldlogits"
      ],
      "execution_count": 4,
      "outputs": []
    },
    {
      "cell_type": "markdown",
      "metadata": {
        "id": "RWiMmK5qjlKA"
      },
      "source": [
        "## Exercise 1:\n",
        "Below you can find template for MLP class. Your task is to implement the missing forward and backward methods"
      ]
    },
    {
      "cell_type": "code",
      "metadata": {
        "id": "VmwUieNtj5wR"
      },
      "source": [
        "class MLP:\n",
        "\n",
        "  def __init__(self, n_hidden: int):\n",
        "\n",
        "    # Weights and biases to learn\n",
        "\n",
        "    b = np.sqrt(1 / d_data)\n",
        "    self.W1 = np.random.uniform(-b, b, size=(n_hidden, d_data)).astype(np.float32)\n",
        "    self.b1 = np.random.uniform(-b, b, size=(n_hidden, 1)).astype(np.float32)\n",
        "\n",
        "    b = np.sqrt(1 / n_hidden)\n",
        "    self.W2 = np.random.uniform(-b, b, size=(10, n_hidden)).astype(np.float32)\n",
        "    self.b2 = np.random.uniform(-b, b, size=(10, 1)).astype(np.float32)\n",
        "\n",
        "    # and placeholders for their gradients\n",
        "    self.dldW1, self.dldb1, self.dldW2, self.dldb2 = None, None, None, None\n",
        "\n",
        "    # Activations and hiddens/outputs to be computed in forward() and to be used in backward()\n",
        "    self.x, self.h = None, None\n",
        "\n",
        "    # Activation function for hidden layer\n",
        "    self.relu = ReLU()\n",
        "\n",
        "  '''\n",
        "  Tips!\n",
        "  Forward pass: given a (d_data, batch_size) data matrix in, return a (10, batch_size) output logits using weights and biases\n",
        "  Remember to store x and h to be used in backward() later\n",
        "  '''\n",
        "  def forward(self, x):\n",
        "    ##### YOUR CODE GOES HERE #####\n",
        "    self.x = x\n",
        "\n",
        "    a1 = self.W1 @ x + self.b1\n",
        "    self.h = self.relu.forward(a1)\n",
        "\n",
        "    a2 = self.W2 @ self.h + self.b2\n",
        "    logits = a2\n",
        "    ###############################\n",
        "    return logits\n",
        "\n",
        "  '''\n",
        "  Tips!\n",
        "  Backward pass: given dldlogits, backprop the gradient to all the weights and biases (dldb1, dldW1, dldb2, dldW2)\n",
        "  Remember to utilize the activations/hiddens stored in the forward() call and the self.relu.backward call\n",
        "  Pay attention to the shape of the gradients\n",
        "  '''\n",
        "  def backward(self, dldlogits):\n",
        "    ##### YOUR CODE GOES HERE #####\n",
        "    dlda2 = dldlogits\n",
        "    self.dldb2 = np.sum(dlda2, axis=1, keepdims=True)  # (10, m) -> (10, 1),\n",
        "    # we sum the gradient over the entire mini batch (we already divide by the batch size in the loss, -> we update the weights/bias with the average gradient over the mini batch)\n",
        "\n",
        "    self.dldW2 = dlda2 @ self.h.T  # (10, m) @ (num_hidden, m).T = (10, num_hidden), comes from tensor calculus\n",
        "\n",
        "    dldh = self.W2.T @ dlda2  # (10, num_hidden).T @ (10, m) = (num_hidden, m), see Eq 6.46 in deep learning book\n",
        "    dlda1 = self.relu.backward(dldh)  # (num_hidden, m)\n",
        "\n",
        "    self.dldb1 = np.sum(dlda1, axis=1, keepdims=True)  # (num_hidden, m).sum(axis=1) = (num_hidden,)\n",
        "    self.dldW1 = dlda1 @ self.x.T  # (num_hidden, m) @ (d_data, m).T = (num_hidden, d_data)\n",
        "    ###############################"
      ],
      "execution_count": 5,
      "outputs": []
    },
    {
      "cell_type": "markdown",
      "metadata": {
        "id": "c1VpxR0BlQwQ"
      },
      "source": [
        "### Nows lets define dataloder function that will help us to easily load the data given the batch size"
      ]
    },
    {
      "cell_type": "code",
      "metadata": {
        "id": "gDLzQYSNlaHK"
      },
      "source": [
        "def dataloader(x, y, batch_size: int, shuffle=True):\n",
        "  idx = np.arange(x.shape[1])\n",
        "  if shuffle:\n",
        "    np.random.shuffle(idx)\n",
        "  n_batches = int(np.ceil(x.shape[1] / batch_size))\n",
        "  for i in range(n_batches):\n",
        "    idx_batch = idx[i * batch_size: (i + 1) * batch_size]\n",
        "    yield x_train[:, idx_batch], y_train[:, idx_batch]"
      ],
      "execution_count": 6,
      "outputs": []
    },
    {
      "cell_type": "markdown",
      "metadata": {
        "id": "pk4NNYuYmTKT"
      },
      "source": [
        "## Exercise 2\n",
        "Below we have optimization loop for training out classifier. Your task is to implement missing forward and backward passes."
      ]
    },
    {
      "cell_type": "code",
      "metadata": {
        "colab": {
          "base_uri": "https://localhost:8080/",
          "height": 49,
          "referenced_widgets": [
            "2dd86273940d4605b48b34b2b2cbd6aa",
            "3f1bfd2af902470a8867e4f031660ef8",
            "4f723e16f58f4a4985765ff99f180360",
            "b90cfea61caf493cbfaa06b2b4e9059b",
            "e2b52341cfcc4c85a74685eca60f5095",
            "4746a02e211d4574974db4a453497d29",
            "13257b8bcd334aa286952fe060645b46",
            "45495f7951c347f48ea71254992060fc",
            "e07ebb05e17c42d2841c505597c66f04",
            "b05cf4f6cf7a46c6b6b46e428875aa5b",
            "7fb0fb967c2146fdadc39aa62a06d52c"
          ]
        },
        "id": "WEJVWqOYmzHb",
        "outputId": "0d165dc5-2ce1-4303-a5d5-1aa1aa92e996"
      },
      "source": [
        "# initialization\n",
        "mlp = MLP(100)\n",
        "loss_fun = MultinomialCrossEntropyLoss()\n",
        "\n",
        "train_losses = []\n",
        "train_accuracies = []\n",
        "valid_losses = []\n",
        "valid_accuracies = []\n",
        "\n",
        "# mini batch gradient descent\n",
        "lr = 5e-2\n",
        "batch_size = 50\n",
        "\n",
        "pbar = tqdm(range(50))\n",
        "for epoch in pbar:\n",
        "  epoch_losses = []\n",
        "  correct = 0\n",
        "  for x, y in dataloader(x_train, y_train, batch_size):\n",
        "    ##### YOUR CODE GOES HERE #####\n",
        "\n",
        "    # forward pass: calculate logits and loss\n",
        "\n",
        "    logits = mlp.forward(x)\n",
        "    loss = loss_fun.forward(logits, y)\n",
        "\n",
        "    # backward pass: back propogate the loss gradient to your weights and update them with the learning rate\n",
        "\n",
        "    dldlogits = loss_fun.backward()\n",
        "    mlp.backward(dldlogits)\n",
        "\n",
        "    mlp.b1 -= lr * mlp.dldb1\n",
        "    mlp.W1 -= lr * mlp.dldW1\n",
        "    mlp.b2 -= lr * mlp.dldb2\n",
        "    mlp.W2 -= lr * mlp.dldW2\n",
        "    ###############################\n",
        "\n",
        "    # stats\n",
        "    epoch_losses.append(loss)\n",
        "    correct += np.sum(np.argmax(logits, 0) == np.argmax(y, 0))\n",
        "\n",
        "  train_losses.append(np.mean(epoch_losses))\n",
        "  train_accuracies.append(correct / x_train.shape[1])\n",
        "\n",
        "  # we're using the test set as a validation set here\n",
        "  logits = mlp.forward(x_test)\n",
        "  valid_losses.append(loss_fun.forward(logits, y_test))\n",
        "  valid_accuracies.append(np.mean(np.argmax(logits, 0) == np.argmax(y_test, 0)))\n",
        "\n",
        "  # update progress bar\n",
        "  pbar.set_description(f'acc: {train_accuracies[-1]:.2f}/{valid_accuracies[-1]:.2f}')"
      ],
      "execution_count": null,
      "outputs": [
        {
          "output_type": "display_data",
          "data": {
            "text/plain": [
              "  0%|          | 0/50 [00:00<?, ?it/s]"
            ],
            "application/vnd.jupyter.widget-view+json": {
              "version_major": 2,
              "version_minor": 0,
              "model_id": "2dd86273940d4605b48b34b2b2cbd6aa"
            }
          },
          "metadata": {}
        }
      ]
    },
    {
      "cell_type": "markdown",
      "metadata": {
        "id": "Wk9o2dj4nzCO"
      },
      "source": [
        "### Finally lets visualize your results!"
      ]
    },
    {
      "cell_type": "code",
      "metadata": {
        "id": "pesIm2oBn5kM"
      },
      "source": [
        "plt.figure(figsize=(10, 4))\n",
        "\n",
        "plt.subplot(1, 2, 1)\n",
        "plt.plot(train_losses, label='train')\n",
        "plt.plot(valid_losses, label='valid')\n",
        "plt.ylabel('loss')\n",
        "plt.xlabel('epoch')\n",
        "plt.legend()\n",
        "plt.grid()\n",
        "\n",
        "plt.subplot(1, 2, 2)\n",
        "plt.plot(train_accuracies, label='train')\n",
        "plt.plot(valid_accuracies, label='valid')\n",
        "plt.ylim(0, 1)\n",
        "plt.ylabel('accuracy')\n",
        "plt.xlabel('epoch')\n",
        "plt.legend()\n",
        "plt.grid()\n",
        "\n",
        "plt.tight_layout()\n",
        "plt.show()"
      ],
      "execution_count": null,
      "outputs": []
    },
    {
      "cell_type": "markdown",
      "metadata": {
        "id": "PqbnReXfoWgi"
      },
      "source": [
        "The results should be similar to last exercise"
      ]
    }
  ]
}