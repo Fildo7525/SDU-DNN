{
  "nbformat": 4,
  "nbformat_minor": 0,
  "metadata": {
    "colab": {
      "provenance": [],
      "include_colab_link": true
    },
    "kernelspec": {
      "name": "python3",
      "display_name": "Python 3"
    },
    "language_info": {
      "name": "python"
    }
  },
  "cells": [
    {
      "cell_type": "markdown",
      "metadata": {
        "id": "view-in-github",
        "colab_type": "text"
      },
      "source": [
        "<a href=\"https://colab.research.google.com/github/Fildo7525/SDU-DNN/blob/master/2_logistic_template.ipynb\" target=\"_parent\"><img src=\"https://colab.research.google.com/assets/colab-badge.svg\" alt=\"Open In Colab\"/></a>"
      ]
    },
    {
      "cell_type": "code",
      "metadata": {
        "id": "hklmL5BP-Vxq"
      },
      "source": [
        "import numpy as np\n",
        "import matplotlib.pyplot as plt"
      ],
      "execution_count": null,
      "outputs": []
    },
    {
      "cell_type": "markdown",
      "metadata": {
        "id": "QWdhJkm7--cr"
      },
      "source": [
        "# Binomial\n",
        "\n",
        "#### First lets create data"
      ]
    },
    {
      "cell_type": "code",
      "metadata": {
        "colab": {
          "base_uri": "https://localhost:8080/",
          "height": 279
        },
        "id": "lmIoz2g2-mM_",
        "outputId": "b7d6a2a9-778b-4fde-985b-0d2faa6c12a8"
      },
      "source": [
        "n = 100\n",
        "\n",
        "c0 = np.random.normal(loc=1, scale=2.5, size=(1, n))\n",
        "c1 = np.random.normal(loc=10, scale=2.5, size=(1, n))\n",
        "\n",
        "plt.scatter(c0, np.zeros_like(c0), label='Class 0')\n",
        "plt.scatter(c1, np.ones_like(c1), label='Class 1')\n",
        "plt.xlabel('x')\n",
        "plt.ylabel('y')\n",
        "plt.legend()\n",
        "plt.show()"
      ],
      "execution_count": null,
      "outputs": [
        {
          "output_type": "display_data",
          "data": {
            "image/png": "[encoded data removed]",
            "text/plain": [
              "<Figure size 432x288 with 1 Axes>"
            ]
          },
          "metadata": {
            "needs_background": "light"
          }
        }
      ]
    },
    {
      "cell_type": "markdown",
      "metadata": {
        "id": "eyDTwED6Bptc"
      },
      "source": [
        "#### Fit model\n",
        "\n",
        "Implement the optimization loop:\n",
        "\n",
        "\n",
        "*   Compute the avg. log-likelihood and report it\n",
        "*   Compute the avg. gradient g (2x1)\n",
        "*   Update w by adding g\n",
        "*   (Repeat many times)\n",
        "\n",
        "Plot your resulting fit over [-10, 20]\n",
        "\n",
        "* Use np.arange(-10,20,0.1) for the x-values\n",
        "* Then evaluate your fitted sigmoid to get y-values\n",
        "* What’s the probability that x = 5 belongs to class 1?\n",
        "\n"
      ]
    },
    {
      "cell_type": "code",
      "metadata": {
        "id": "_KKDmxFyBmNM"
      },
      "source": [
        "# for learning include 1 as the bias parameter\n",
        "\n",
        "x = np.concatenate((\n",
        "    np.ones((1, 2 * n)),  # (1, 2n)\n",
        "    np.concatenate((c0, c1), axis=1)  # (1, 2n)\n",
        "), axis=0)  # (2, 2n)\n",
        "\n",
        "y = np.concatenate((\n",
        "    np.zeros((1, n)),\n",
        "    np.ones((1, n))\n",
        "), axis=1)  # (1, 2 * n)\n",
        "\n",
        "# randomly initialize weights\n",
        "w = np.random.randn(2, 1)"
      ],
      "execution_count": null,
      "outputs": []
    },
    {
      "cell_type": "code",
      "metadata": {
        "id": "W5Z16A6pHP7L"
      },
      "source": [
        "# Implement your code here"
      ],
      "execution_count": null,
      "outputs": []
    },
    {
      "cell_type": "markdown",
      "metadata": {
        "id": "gmcFRYx_C0-_"
      },
      "source": [
        "# Multinomial (softmax)\n",
        "\n",
        "#### First lets create data"
      ]
    },
    {
      "cell_type": "code",
      "metadata": {
        "colab": {
          "base_uri": "https://localhost:8080/",
          "height": 279
        },
        "id": "osOUkFIqCqL_",
        "outputId": "f057ec52-1e12-4f3f-dff1-300803633ccb"
      },
      "source": [
        "c0 = np.random.multivariate_normal([0, 0], np.eye(2), n).T  # (2, 100)\n",
        "c1 = np.random.multivariate_normal([-2, 2], np.eye(2), n).T\n",
        "c2 = np.random.multivariate_normal([2, 2], np.eye(2), n).T\n",
        "\n",
        "plt.scatter(*c0, label='Class 0')\n",
        "plt.scatter(*c1, label='Class 1')\n",
        "plt.scatter(*c2, label='Class 2')\n",
        "plt.xlabel('x1')\n",
        "plt.ylabel('x2')\n",
        "plt.legend()\n",
        "plt.show()"
      ],
      "execution_count": null,
      "outputs": [
        {
          "output_type": "display_data",
          "data": {
            "image/png": "[encoded data removed]",
            "text/plain": [
              "<Figure size 432x288 with 1 Axes>"
            ]
          },
          "metadata": {
            "needs_background": "light"
          }
        }
      ]
    },
    {
      "cell_type": "markdown",
      "metadata": {
        "id": "WEp3ej3fDVjl"
      },
      "source": [
        "#### Fit model\n",
        "\n",
        "Just like before\n",
        "* Compute current softmax output using W and X (a 3xm data matrix )\n",
        "* Compute the avg. log-likelihood\n",
        "* Compute the avg. gradient (a 3x3 matrix)\n",
        "* Update W\n",
        "\n",
        "What classification rate do you get?"
      ]
    },
    {
      "cell_type": "code",
      "metadata": {
        "id": "nrRaAdqjC6m0"
      },
      "source": [
        "# Stack and add a 1 for the bias\n",
        "\n",
        "x = np.concatenate((\n",
        "    np.ones((1, 3 * n)),  # (1, 300)\n",
        "    np.concatenate((c0, c1, c2), axis=1)  # (2, 300)\n",
        "), axis=0)  # (3, 300)\n",
        "\n",
        "# Use one-hot encoding for the labels\n",
        "y = np.zeros((3, 3 * n))\n",
        "y[0, :n] = 1\n",
        "y[1, n:2 * n] = 1\n",
        "y[2, 2 * n:] = 1\n",
        "\n",
        "# Initialize parameters\n",
        "w = np.random.randn(3, 3)"
      ],
      "execution_count": null,
      "outputs": []
    },
    {
      "cell_type": "code",
      "metadata": {
        "id": "I1ddHXk6HLCn"
      },
      "source": [
        "# Implement your code here"
      ],
      "execution_count": null,
      "outputs": []
    },
    {
      "cell_type": "markdown",
      "metadata": {
        "id": "Z70Q9tqmDSFA"
      },
      "source": [
        "## Now lets try out on MNIST data\n",
        "\n",
        "#### Lets load data"
      ]
    },
    {
      "cell_type": "code",
      "metadata": {
        "id": "5PnhFE_cETnh"
      },
      "source": [
        "# torch\n",
        "import torch\n",
        "from torchvision import datasets\n",
        "\n",
        "# sklearn\n",
        "import sklearn.preprocessing\n",
        "from tqdm.notebook import tqdm\n",
        "\n",
        "mnist_train_dataset = datasets.MNIST('', train=True, download=True)\n",
        "mnist_test_dataset = datasets.MNIST('', train=False, download=True)\n",
        "\n",
        "x_train = np.array(mnist_train_dataset.data)\n",
        "y_train = np.array(mnist_train_dataset.targets)\n",
        "\n",
        "x_test = np.array(mnist_test_dataset.data)\n",
        "y_test = np.array(mnist_test_dataset.targets)"
      ],
      "execution_count": null,
      "outputs": []
    },
    {
      "cell_type": "markdown",
      "metadata": {
        "id": "eyaDSCgqG3y8"
      },
      "source": [
        "Now repeat the same steps as above.\n",
        "\n",
        "What classification rate do you get? Is it better than last week?"
      ]
    },
    {
      "cell_type": "code",
      "metadata": {
        "id": "jVRFTQ32E8IS"
      },
      "source": [
        "# One-hot encode labels\n",
        "y_train = sklearn.preprocessing.label_binarize(y_train, range(10))\n",
        "y_test = sklearn.preprocessing.label_binarize(y_test, range(10))\n",
        "\n",
        "# Normalize images\n",
        "x_train, x_test = x_train / 255 - 0.5, x_test / 255 - 0.5\n",
        "\n",
        "# Vectorize\n",
        "d_data = np.prod(x_train.shape[1:])\n",
        "x_train = x_train.reshape((-1, d_data))\n",
        "x_test = x_test.reshape((-1, d_data))\n",
        "\n",
        "# Store images/labels in columns\n",
        "x_train, y_train, x_test, y_test = x_train.T, y_train.T, x_test.T, y_test.T\n",
        "\n",
        "# Add bias term\n",
        "x_train = np.concatenate((np.ones((1, 60000)), x_train), axis=0)\n",
        "x_test = np.concatenate((np.ones((1, 10000)), x_test), axis=0)\n",
        "d_data += 1\n",
        "\n",
        "# Initialize parameters\n",
        "w = np.random.randn(d_data, 10) * 1e-2"
      ],
      "execution_count": null,
      "outputs": []
    },
    {
      "cell_type": "code",
      "metadata": {
        "id": "nYwbyn_nFRhs"
      },
      "source": [
        "# Implement your code here"
      ],
      "execution_count": null,
      "outputs": []
    }
  ]
}